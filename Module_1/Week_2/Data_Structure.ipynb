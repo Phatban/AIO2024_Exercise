{
 "cells": [
  {
   "cell_type": "markdown",
   "metadata": {},
   "source": [
    "## **Data Structure – Exercise** \n",
    "*Ngày 8 tháng 6 năm 2024*"
   ]
  },
  {
   "cell_type": "markdown",
   "metadata": {},
   "source": [
    "### **1. Cho một list các số nguyên num_list và một sliding window có kích thước size k di chuyển từ trái sang phải. Mỗi lần dịch chuyển 1 vị trí sang phải có thể nhìn thấy đươc k số trong num_list và tìm số lớn nhất trong k số này sau mỗi lần trượt (k phải lớn hơn hoặc bằng 1).**\n",
    "- *Input*: num_list = [3, 4, 5, 1, -44 , 5 ,10, 12 ,33, 1] với k = 3.\n",
    "- *Output*: [5, 5, 5, 5, 10, 12, 33, 33]."
   ]
  },
  {
   "cell_type": "markdown",
   "metadata": {},
   "source": [
    "#### *Viết function*"
   ]
  },
  {
   "cell_type": "code",
   "execution_count": 1,
   "metadata": {},
   "outputs": [],
   "source": [
    "def max_kernel(num_list, k):\n",
    "    \"\"\"\n",
    "    Find the maximum element in a sliding window of size k in a list of integers.\n",
    "\n",
    "    Args:\n",
    "        num_list (list): A list of integers.\n",
    "        k (int): The size of the sliding window.\n",
    "\n",
    "    Returns:\n",
    "        list: A list containing the maximum element in each sliding window of size k.\n",
    "    \"\"\"\n",
    "    result = []\n",
    "    queue = []\n",
    "\n",
    "    for index, value in enumerate(num_list):\n",
    "        # Remove elements from the queue that are outside the current window\n",
    "        while queue and queue[0] <= index - k:\n",
    "            queue.pop(0)\n",
    "\n",
    "        # Remove elements smaller than value to maintain num_list[queue[0]] as the maximum\n",
    "        while queue and num_list[queue[-1]] < value:\n",
    "            queue.pop()\n",
    "\n",
    "        queue.append(index)\n",
    "\n",
    "        # When the window size is k, append the maximum element to the result\n",
    "        if index >= k - 1:\n",
    "            result.append(num_list[queue[0]])\n",
    "\n",
    "    return result\n"
   ]
  },
  {
   "cell_type": "markdown",
   "metadata": {},
   "source": [
    "#### *Chạy thử function*"
   ]
  },
  {
   "cell_type": "code",
   "execution_count": 2,
   "metadata": {},
   "outputs": [
    {
     "data": {
      "text/plain": [
       "[5, 5, 5, 5, 10, 12, 33, 33]"
      ]
     },
     "execution_count": 2,
     "metadata": {},
     "output_type": "execute_result"
    }
   ],
   "source": [
    "max_kernel(num_list=[3, 4, 5, 1, -44 , 5 ,10, 12 ,33, 1], k=3)"
   ]
  },
  {
   "cell_type": "markdown",
   "metadata": {},
   "source": [
    "### **2. Viết function trả về một dictionary đếm số lượng chữ xuất hiện trong một từ, với key là chữ cái và value là số lần xuất hiện.**\n",
    "- *Input*: một từ.\n",
    "- *Output*: dictionary đếm số lần các chữ xuất hiện."
   ]
  },
  {
   "cell_type": "markdown",
   "metadata": {},
   "source": [
    "#### *Viết function:*"
   ]
  },
  {
   "cell_type": "code",
   "execution_count": 3,
   "metadata": {},
   "outputs": [],
   "source": [
    "def character_count(word):\n",
    "    \"\"\"\n",
    "    Count the occurrences of each character in a word.\n",
    "\n",
    "    Args:\n",
    "        word (str): A string representing the word.\n",
    "\n",
    "    Returns:\n",
    "        dict: A dictionary where the keys are characters and \n",
    "        the values are their corresponding counts.\n",
    "    \"\"\"\n",
    "    dict_of_chars = {}\n",
    "    for char in word:\n",
    "        if char in dict_of_chars:\n",
    "            dict_of_chars[char] += 1\n",
    "        else:\n",
    "            dict_of_chars[char] = 1\n",
    "    return dict_of_chars"
   ]
  },
  {
   "cell_type": "markdown",
   "metadata": {},
   "source": [
    "#### *Chạy thử function:*"
   ]
  },
  {
   "cell_type": "code",
   "execution_count": 4,
   "metadata": {},
   "outputs": [
    {
     "data": {
      "text/plain": [
       "{'H': 1, 'a': 1, 'p': 2, 'i': 1, 'n': 1, 'e': 1, 's': 2}"
      ]
     },
     "execution_count": 4,
     "metadata": {},
     "output_type": "execute_result"
    }
   ],
   "source": [
    "character_count('Happiness')"
   ]
  },
  {
   "cell_type": "code",
   "execution_count": 5,
   "metadata": {},
   "outputs": [
    {
     "data": {
      "text/plain": [
       "{'s': 2, 'm': 1, 'i': 1, 'l': 1, 'e': 1}"
      ]
     },
     "execution_count": 5,
     "metadata": {},
     "output_type": "execute_result"
    }
   ],
   "source": [
    "character_count('smiles')"
   ]
  },
  {
   "cell_type": "markdown",
   "metadata": {},
   "source": [
    "### **3. Viết function đọc các câu trong một file txt, đếm số lượng các từ xuất hiện và trả về một dictionary với key là từ và value là số lần từ đó xuất hiện.**\n",
    "- *Input*: đường dẫn đến file txt.\n",
    "- *Output*: dictionary đếm số lần các từ xuất hiện."
   ]
  },
  {
   "cell_type": "markdown",
   "metadata": {},
   "source": [
    "#### *Viết function*"
   ]
  },
  {
   "cell_type": "code",
   "execution_count": 6,
   "metadata": {},
   "outputs": [],
   "source": [
    "def count_word(file_path):\n",
    "    \"\"\"\n",
    "    Count the occurrences of each word in a text file.\n",
    "\n",
    "    Args:\n",
    "        file_path (str): The path to the text file.\n",
    "\n",
    "    Returns:\n",
    "        dict: A dictionary where the keys are words and the values are their corresponding counts.\n",
    "    \"\"\"\n",
    "    dict_of_words = {}\n",
    "    with open(file_path, 'r', encoding='utf-8') as file:\n",
    "        for line in file:\n",
    "            words = line.strip().lower().split()\n",
    "            for word in words:\n",
    "                if word in dict_of_words:\n",
    "                    dict_of_words[word] += 1\n",
    "                else:\n",
    "                    dict_of_words[word] = 1\n",
    "    return dict_of_words\n"
   ]
  },
  {
   "cell_type": "markdown",
   "metadata": {},
   "source": [
    "#### *Chạy thử function*"
   ]
  },
  {
   "cell_type": "code",
   "execution_count": 15,
   "metadata": {},
   "outputs": [
    {
     "data": {
      "text/plain": [
       "{'he': 1,\n",
       " 'who': 3,\n",
       " 'conquers': 1,\n",
       " 'himself': 1,\n",
       " 'is': 3,\n",
       " 'the': 5,\n",
       " 'mightiest': 1,\n",
       " 'warrior': 1,\n",
       " 'try': 2,\n",
       " 'not': 1,\n",
       " 'to': 3,\n",
       " 'become': 2,\n",
       " 'a': 7,\n",
       " 'man': 6,\n",
       " 'of': 4,\n",
       " 'success': 3,\n",
       " 'but': 1,\n",
       " 'rather': 1,\n",
       " 'value': 1,\n",
       " 'one': 4,\n",
       " 'with': 4,\n",
       " 'courage': 1,\n",
       " 'makes': 1,\n",
       " 'majority': 1,\n",
       " 'secret': 1,\n",
       " 'in': 4,\n",
       " 'life': 2,\n",
       " 'for': 3,\n",
       " 'be': 1,\n",
       " 'ready': 1,\n",
       " 'his': 2,\n",
       " 'opportunity': 1,\n",
       " 'when': 2,\n",
       " 'it': 2,\n",
       " 'comes': 2,\n",
       " 'successful': 2,\n",
       " 'will': 2,\n",
       " 'profit': 1,\n",
       " 'from': 1,\n",
       " 'mistakes': 1,\n",
       " 'and': 1,\n",
       " 'again': 1,\n",
       " 'different': 1,\n",
       " 'way': 1,\n",
       " 'can': 3,\n",
       " 'lay': 1,\n",
       " 'firm': 1,\n",
       " 'foundation': 1,\n",
       " 'bricks': 1,\n",
       " 'others': 1,\n",
       " 'have': 1,\n",
       " 'thrown': 1,\n",
       " 'at': 1,\n",
       " 'him': 1,\n",
       " 'usually': 1,\n",
       " 'those': 1,\n",
       " 'are': 1,\n",
       " 'too': 1,\n",
       " 'busy': 1,\n",
       " 'looking': 1,\n",
       " 'we': 3,\n",
       " 'cannot': 1,\n",
       " 'solve': 1,\n",
       " 'problems': 1,\n",
       " 'kind': 1,\n",
       " 'thinking': 1,\n",
       " 'employed': 1,\n",
       " 'came': 1,\n",
       " 'up': 1,\n",
       " 'them': 1,\n",
       " 'just': 2,\n",
       " 'small': 1,\n",
       " 'positive': 1,\n",
       " 'thought': 1,\n",
       " 'morning': 1,\n",
       " 'change': 1,\n",
       " 'your': 1,\n",
       " 'whole': 1,\n",
       " 'day': 1,\n",
       " 'you': 3,\n",
       " 'get': 2,\n",
       " 'everything': 1,\n",
       " 'want': 2,\n",
       " 'if': 1,\n",
       " 'help': 1,\n",
       " 'enough': 1,\n",
       " 'other': 1,\n",
       " 'people': 1,\n",
       " 'what': 1,\n",
       " 'they': 1}"
      ]
     },
     "execution_count": 15,
     "metadata": {},
     "output_type": "execute_result"
    }
   ],
   "source": [
    "file_path = r\"C:\\Users\\admin\\Downloads\\P1_data.txt\"\n",
    "count_word(file_path)"
   ]
  },
  {
   "cell_type": "markdown",
   "metadata": {},
   "source": [
    "### **4. Viết chương trình tính khoảng cách chỉnh sửa tối thiểu Levenshtein. Khoảng cách Levenshtein thể hiện khoảng cách khác biệt giữa 2 chuỗi ký tự.** \n",
    "Khoảng cách Levenshtein giữa chuỗi S và chuỗi T\n",
    "là số bước ít nhất biến chuỗi S thành chuỗi T thông qua 3 phép biến đổi là:\n",
    "- Xoá một ký tự\n",
    "- Thêm một ký tự\n",
    "- Thay thế ký tự này bằng ký tự khác"
   ]
  },
  {
   "cell_type": "markdown",
   "metadata": {},
   "source": [
    "#### *Viết function*"
   ]
  },
  {
   "cell_type": "code",
   "execution_count": 16,
   "metadata": {},
   "outputs": [],
   "source": [
    "def levenshtein_distance(token1, token2):\n",
    "    \"\"\"\n",
    "    Calculate the Levenshtein distance between two strings.\n",
    "\n",
    "    The Levenshtein distance is the minimum number of single-character edits \n",
    "    (insertions, deletions, or substitutions) required to change one string into the other.\n",
    "\n",
    "    Args:\n",
    "        token1 (str): The first string.\n",
    "        token2 (str): The second string.\n",
    "\n",
    "    Returns:\n",
    "        int: The Levenshtein distance between the two strings.\n",
    "    \"\"\"\n",
    "    m, n = len(token1), len(token2)\n",
    "    dp = [[0] * (n + 1) for _ in range(m + 1)]\n",
    "\n",
    "    # Initialize the first row and column\n",
    "    for i in range(m + 1):\n",
    "        dp[i][0] = i\n",
    "    for j in range(n + 1):\n",
    "        dp[0][j] = j\n",
    "\n",
    "    # Calculate the Levenshtein distance using dynamic programming\n",
    "    for i in range(1, m + 1):\n",
    "        for j in range(1, n + 1):\n",
    "            if token1[i - 1] == token2[j - 1]:\n",
    "                dp[i][j] = dp[i - 1][j - 1]\n",
    "            else:\n",
    "                dp[i][j] = 1 + min(\n",
    "                    dp[i - 1][j], dp[i][j - 1], dp[i - 1][j - 1])\n",
    "\n",
    "    return dp[m][n]\n"
   ]
  },
  {
   "cell_type": "markdown",
   "metadata": {},
   "source": [
    "#### *Chạy thử function*"
   ]
  },
  {
   "cell_type": "code",
   "execution_count": 17,
   "metadata": {},
   "outputs": [
    {
     "data": {
      "text/plain": [
       "1"
      ]
     },
     "execution_count": 17,
     "metadata": {},
     "output_type": "execute_result"
    }
   ],
   "source": [
    "levenshtein_distance('yu', 'you')"
   ]
  },
  {
   "cell_type": "code",
   "execution_count": 18,
   "metadata": {},
   "outputs": [
    {
     "data": {
      "text/plain": [
       "4"
      ]
     },
     "execution_count": 18,
     "metadata": {},
     "output_type": "execute_result"
    }
   ],
   "source": [
    "levenshtein_distance('hi', 'hello')"
   ]
  },
  {
   "cell_type": "code",
   "execution_count": 19,
   "metadata": {},
   "outputs": [
    {
     "data": {
      "text/plain": [
       "3"
      ]
     },
     "execution_count": 19,
     "metadata": {},
     "output_type": "execute_result"
    }
   ],
   "source": [
    "levenshtein_distance('hola', 'hello')"
   ]
  }
 ],
 "metadata": {
  "kernelspec": {
   "display_name": "Python 3",
   "language": "python",
   "name": "python3"
  },
  "language_info": {
   "codemirror_mode": {
    "name": "ipython",
    "version": 3
   },
   "file_extension": ".py",
   "mimetype": "text/x-python",
   "name": "python",
   "nbconvert_exporter": "python",
   "pygments_lexer": "ipython3",
   "version": "3.12.3"
  }
 },
 "nbformat": 4,
 "nbformat_minor": 2
}
