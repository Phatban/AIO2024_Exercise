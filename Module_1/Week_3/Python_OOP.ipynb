{
  "cells": [
    {
      "cell_type": "markdown",
      "metadata": {},
      "source": [
        "## **Python OOP – Exercise** \n",
        "*Ngày 15 tháng 6 năm 2024*"
      ]
    },
    {
      "cell_type": "markdown",
      "metadata": {},
      "source": [
        "### **1. Viết class và cài phương thức softmax.**"
      ]
    },
    {
      "cell_type": "markdown",
      "metadata": {},
      "source": [
        "#### *Xây dựng class*"
      ]
    },
    {
      "cell_type": "code",
      "execution_count": 1,
      "metadata": {},
      "outputs": [],
      "source": [
        "import torch\n",
        "import torch.nn as nn"
      ]
    },
    {
      "cell_type": "code",
      "execution_count": 2,
      "metadata": {},
      "outputs": [],
      "source": [
        "class Softmax(nn.Module):\n",
        "    \"\"\"\n",
        "    Softmax activation function module.\n",
        "    \"\"\"\n",
        "    def __init__(self):\n",
        "        super(Softmax, self).__init__()\n",
        "\n",
        "    def forward(self, x):\n",
        "        \"\"\"\n",
        "        Compute the softmax activation function.\n",
        "\n",
        "        Args:\n",
        "            x (torch.Tensor): Input tensor.\n",
        "\n",
        "        Returns:\n",
        "            torch.Tensor: Output tensor after applying softmax.\n",
        "        \"\"\"\n",
        "        # Compute softmax\n",
        "        exp_x = torch.exp(x)\n",
        "        sum_exp_x = torch.sum(exp_x, dim=0, keepdim=True)\n",
        "        return exp_x / sum_exp_x"
      ]
    },
    {
      "cell_type": "code",
      "execution_count": 3,
      "metadata": {},
      "outputs": [],
      "source": [
        "class SoftmaxStable(nn.Module):\n",
        "    \"\"\"\n",
        "    Stable Softmax activation function module.\n",
        "    \"\"\"\n",
        "    def __init__(self):\n",
        "        super(SoftmaxStable, self).__init__()\n",
        "\n",
        "    def forward(self, x):\n",
        "        \"\"\"\n",
        "        Compute the stable softmax activation function.\n",
        "\n",
        "        Args:\n",
        "            x (torch.Tensor): Input tensor.\n",
        "\n",
        "        Returns:\n",
        "            torch.Tensor: Output tensor after applying stable softmax.\n",
        "        \"\"\"\n",
        "        # Compute stable softmax\n",
        "        x_max = torch.max(x, dim=0, keepdim=True).values\n",
        "        exp_x = torch.exp(x - x_max)\n",
        "        sum_exp_x = torch.sum(exp_x, dim=0, keepdim=True)\n",
        "        return exp_x / sum_exp_x"
      ]
    },
    {
      "cell_type": "markdown",
      "metadata": {},
      "source": [
        "#### *Chạy thử class*"
      ]
    },
    {
      "cell_type": "code",
      "execution_count": 4,
      "metadata": {},
      "outputs": [
        {
          "data": {
            "text/plain": [
              "tensor([0.0900, 0.2447, 0.6652])"
            ]
          },
          "execution_count": 4,
          "metadata": {},
          "output_type": "execute_result"
        }
      ],
      "source": [
        "data = torch.Tensor([1 , 2 , 3])\n",
        "softmax = Softmax()\n",
        "output = softmax(data)\n",
        "output"
      ]
    },
    {
      "cell_type": "code",
      "execution_count": 5,
      "metadata": {},
      "outputs": [
        {
          "data": {
            "text/plain": [
              "tensor([0.9465, 0.0471, 0.0064])"
            ]
          },
          "execution_count": 5,
          "metadata": {},
          "output_type": "execute_result"
        }
      ],
      "source": [
        "data = torch.Tensor([1000, 997 , 995])\n",
        "softmax_stable = SoftmaxStable()\n",
        "output = softmax_stable(data)\n",
        "output"
      ]
    },
    {
      "cell_type": "markdown",
      "metadata": {},
      "source": [
        "### **2. Một Ward (phường) gồm có name (string) và danh sách của mọi người trong Ward. Một người person có thể là student, doctor, hoặc teacher. Một student gồm có name, yob (int) (năm sinh), và grade (string). Một teacher gồm có name, yob, và subject (string). Một doctor gồm có name, yob, và specialist (string). Lưu ý cần sử dụng a list để chứa danh sách của mọi người trong Ward.**\n",
        "        (a) Cài đặt các class Student, Doctor, và Teacher theo mô tả trên. Thực hiện phương thức\n",
        "        describe() method để in ra tất cả thông tin của các object.\n",
        "        (b) Viết add_person(person) method trong Ward class để add thêm một người mới với nghề\n",
        "        nghiệp bất kỳ (student, teacher, doctor) vào danh sách người của ward. Tạo ra một ward\n",
        "        object, và thêm vào 1 student, 2 teacher, và 2 doctor. Thực hiện describe() method để in ra\n",
        "        tên ward (name) và toàn bộ thông tin của từng người trong ward.\n",
        "        (c) Viết count_doctor() method để đếm số lượng doctor trong ward.\n",
        "        (d) Viết sort_age() method để sort mọi người trong ward theo tuổi của họ với thứ tự tăng dần.\n",
        "        (e) Viết compute_average() method để tính trung bình năm sinh của các teachers trong ward."
      ]
    },
    {
      "cell_type": "markdown",
      "metadata": {},
      "source": [
        "#### *Xây dựng class*"
      ]
    },
    {
      "cell_type": "code",
      "execution_count": 6,
      "metadata": {},
      "outputs": [],
      "source": [
        "from abc import ABC, abstractmethod"
      ]
    },
    {
      "cell_type": "code",
      "execution_count": 7,
      "metadata": {},
      "outputs": [],
      "source": [
        "class Person(ABC):\n",
        "    \"\"\"\n",
        "    Abstract base class for Person.\n",
        "    \"\"\"\n",
        "    def __init__(self, name: str, yob: int):\n",
        "        self._name = name\n",
        "        self._yob = yob\n",
        "\n",
        "    def get_yob(self):\n",
        "        \"\"\"\n",
        "        Get the year of birth.\n",
        "\n",
        "        Returns:\n",
        "            int: Year of birth.\n",
        "        \"\"\"\n",
        "        return self._yob\n",
        "\n",
        "    @abstractmethod\n",
        "    def describe(self):\n",
        "        \"\"\"\n",
        "        Abstract method to describe the person.\n",
        "        \"\"\""
      ]
    },
    {
      "cell_type": "code",
      "execution_count": 8,
      "metadata": {},
      "outputs": [],
      "source": [
        "class Student(Person):\n",
        "    \"\"\"\n",
        "    Class representing a Student.\n",
        "    \"\"\"\n",
        "    def __init__(self, name: str, yob: int, grade: str):\n",
        "        \"\"\"\n",
        "        Initialize a Student object.\n",
        "\n",
        "        Args:\n",
        "            name (str): Name of the student.\n",
        "            yob (int): Year of birth of the student.\n",
        "            grade (str): Grade of the student.\n",
        "        \"\"\"\n",
        "        super().__init__(name, yob)\n",
        "        self._grade = grade\n",
        "\n",
        "    def describe(self):\n",
        "        \"\"\"\n",
        "        Describe the student.\n",
        "        \"\"\"\n",
        "        print(f\"Student - Name: {self._name} - YoB: {self._yob} - Grade: {self._grade}\")"
      ]
    },
    {
      "cell_type": "code",
      "execution_count": 9,
      "metadata": {},
      "outputs": [],
      "source": [
        "class Teacher(Person):\n",
        "    \"\"\"\n",
        "    Class representing a Teacher.\n",
        "    \"\"\"\n",
        "    def __init__(self, name: str, yob: int, subject: str):\n",
        "        \"\"\"\n",
        "        Initialize a Teacher object.\n",
        "\n",
        "        Args:\n",
        "            name (str): Name of the teacher.\n",
        "            yob (int): Year of birth of the teacher.\n",
        "            subject (str): Subject taught by the teacher.\n",
        "        \"\"\"\n",
        "        super().__init__(name, yob)\n",
        "        self._subject = subject\n",
        "\n",
        "    def describe(self):\n",
        "        \"\"\"\n",
        "        Describe the teacher.\n",
        "        \"\"\"\n",
        "        print(f\"Teacher - Name: {self._name} - YoB: {self._yob} - Subject: {self._subject}\")"
      ]
    },
    {
      "cell_type": "code",
      "execution_count": 10,
      "metadata": {},
      "outputs": [],
      "source": [
        "class Doctor(Person):\n",
        "    \"\"\"\n",
        "    Class representing a Doctor.\n",
        "    \"\"\"\n",
        "    def __init__(self, name: str, yob: int, specialist: str):\n",
        "        \"\"\"\n",
        "        Initialize a Doctor object.\n",
        "\n",
        "        Args:\n",
        "            name (str): Name of the doctor.\n",
        "            yob (int): Year of birth of the doctor.\n",
        "            specialist (str): Specialist area of the doctor.\n",
        "        \"\"\"\n",
        "        super().__init__(name, yob)\n",
        "        self._specialist = specialist\n",
        "\n",
        "    def describe(self):\n",
        "        \"\"\"\n",
        "        Describe the doctor.\n",
        "        \"\"\"\n",
        "        print(f\"Doctor - Name: {self._name} - YoB: {self._yob} - Specialist: {self._specialist}\")\n"
      ]
    },
    {
      "cell_type": "code",
      "execution_count": 11,
      "metadata": {},
      "outputs": [],
      "source": [
        "class Ward:\n",
        "    \"\"\"\n",
        "    Class representing a Ward (district).\n",
        "    \"\"\"\n",
        "    def __init__(self, name: str):\n",
        "        \"\"\"\n",
        "        Initialize a Ward object.\n",
        "\n",
        "        Args:\n",
        "            name (str): Name of the ward.\n",
        "        \"\"\"\n",
        "        self.__name = name\n",
        "        self.__list_people = []\n",
        "\n",
        "    def add_person(self, person: Person):\n",
        "        \"\"\"\n",
        "        Add a person to the ward.\n",
        "\n",
        "        Args:\n",
        "            person (Person): A Person object (Student, Teacher, or Doctor).\n",
        "        \"\"\"\n",
        "        self.__list_people.append(person)\n",
        "\n",
        "    def describe(self):\n",
        "        \"\"\"\n",
        "        Describe the ward and its members.\n",
        "        \"\"\"\n",
        "        print(f\"Ward Name: {self.__name}\")\n",
        "        for p in self.__list_people:\n",
        "            p.describe()\n",
        "\n",
        "    def count_doctor(self):\n",
        "        \"\"\"\n",
        "        Count the number of doctors in the ward.\n",
        "\n",
        "        Returns:\n",
        "            int: Number of doctors in the ward.\n",
        "        \"\"\"\n",
        "        count = 0\n",
        "        for p in self.__list_people:\n",
        "            if isinstance(p, Doctor):\n",
        "                count += 1\n",
        "        return count\n",
        "\n",
        "    def sort_age(self):\n",
        "        \"\"\"\n",
        "        Sort the people in the ward by their age in ascending order.\n",
        "        \"\"\"\n",
        "        self.__list_people.sort(key=lambda p: p.get_yob())\n",
        "\n",
        "    def compute_average(self):\n",
        "        \"\"\"\n",
        "        Compute the average year of birth of the teachers in the ward.\n",
        "\n",
        "        Returns:\n",
        "            float: Average year of birth of teachers, or None if no teachers are found.\n",
        "        \"\"\"\n",
        "        teachers = [p for p in self.__list_people if isinstance(p, Teacher)]\n",
        "        if not teachers:\n",
        "            return None\n",
        "        yobs = [p.get_yob() for p in teachers]\n",
        "        return sum(yobs) / len(yobs)"
      ]
    },
    {
      "cell_type": "markdown",
      "metadata": {},
      "source": [
        "#### *Chạy thử class:*"
      ]
    },
    {
      "cell_type": "code",
      "execution_count": 12,
      "metadata": {},
      "outputs": [
        {
          "name": "stdout",
          "output_type": "stream",
          "text": [
            "Student - Name: studentA - YoB: 2010 - Grade: 7\n",
            "Teacher - Name: teacherA - YoB: 1969 - Subject: Math\n",
            "Doctor - Name: doctorA - YoB: 1945 - Specialist: Endocrinologists\n"
          ]
        }
      ],
      "source": [
        "student1 = Student(name=\"studentA\", yob=2010 , grade=\"7\")\n",
        "student1.describe()\n",
        "teacher1 = Teacher(name=\"teacherA\", yob=1969, subject=\"Math\")\n",
        "teacher1.describe()\n",
        "doctor1 = Doctor(name=\"doctorA\", yob=1945, specialist=\"Endocrinologists\")\n",
        "doctor1.describe()"
      ]
    },
    {
      "cell_type": "code",
      "execution_count": 13,
      "metadata": {},
      "outputs": [
        {
          "name": "stdout",
          "output_type": "stream",
          "text": [
            "Ward Name: Ward1\n",
            "Student - Name: studentA - YoB: 2010 - Grade: 7\n",
            "Teacher - Name: teacherA - YoB: 1969 - Subject: Math\n",
            "Teacher - Name: teacherB - YoB: 1995 - Subject: History\n",
            "Doctor - Name: doctorA - YoB: 1945 - Specialist: Endocrinologists\n",
            "Doctor - Name: doctorB - YoB: 1975 - Specialist: Cardiologists\n"
          ]
        }
      ],
      "source": [
        "teacher2 = Teacher(name=\"teacherB\", yob=1995, subject=\"History\")\n",
        "doctor2 = Doctor(name=\"doctorB\", yob=1975, specialist=\"Cardiologists\")\n",
        "ward1 = Ward(name=\"Ward1\")\n",
        "ward1.add_person(student1)\n",
        "ward1.add_person(teacher1)\n",
        "ward1.add_person(teacher2)\n",
        "ward1.add_person(doctor1)\n",
        "ward1.add_person(doctor2)\n",
        "ward1.describe()"
      ]
    },
    {
      "cell_type": "code",
      "execution_count": 14,
      "metadata": {},
      "outputs": [
        {
          "name": "stdout",
          "output_type": "stream",
          "text": [
            "Number of doctors: 2\n"
          ]
        }
      ],
      "source": [
        "print(f\"Number of doctors: {ward1.count_doctor()}\")"
      ]
    },
    {
      "cell_type": "code",
      "execution_count": 15,
      "metadata": {},
      "outputs": [
        {
          "name": "stdout",
          "output_type": "stream",
          "text": [
            "After sorting Age of Ward1 people\n",
            "Ward Name: Ward1\n",
            "Doctor - Name: doctorA - YoB: 1945 - Specialist: Endocrinologists\n",
            "Teacher - Name: teacherA - YoB: 1969 - Subject: Math\n",
            "Doctor - Name: doctorB - YoB: 1975 - Specialist: Cardiologists\n",
            "Teacher - Name: teacherB - YoB: 1995 - Subject: History\n",
            "Student - Name: studentA - YoB: 2010 - Grade: 7\n"
          ]
        }
      ],
      "source": [
        "print(\"After sorting Age of Ward1 people\")\n",
        "ward1.sort_age()\n",
        "ward1.describe()"
      ]
    },
    {
      "cell_type": "code",
      "execution_count": 16,
      "metadata": {},
      "outputs": [
        {
          "name": "stdout",
          "output_type": "stream",
          "text": [
            "Average year of birth (teachers): 1982.0\n"
          ]
        }
      ],
      "source": [
        "print(f\"Average year of birth (teachers): {ward1.compute_average()}\")"
      ]
    },
    {
      "cell_type": "markdown",
      "metadata": {},
      "source": [
        "### **3. Thực hiện xây dựng class Stack với các phương thức (method) sau đây:**\n",
        "    • initialization method nhận một input \"capacity\": dùng để khởi tạo stack với capacity là số lượng element mà stack có thể chứa\n",
        "    • .is_empty(): kiểm tra stack có đang rỗng\n",
        "    • .is_full(): kiểm tra stack đã full chưa\n",
        "    • .pop(): loại bỏ top element và trả về giá trị đó\n",
        "    • .push(value) add thêm value vào trong stack\n",
        "    • .top() lấy giá trị top element hiện tại của stack, nhưng không loại bỏ giá trị đó"
      ]
    },
    {
      "cell_type": "markdown",
      "metadata": {},
      "source": [
        "#### *Xây dựng class*"
      ]
    },
    {
      "cell_type": "code",
      "execution_count": 17,
      "metadata": {},
      "outputs": [],
      "source": [
        "class MyStack:\n",
        "    \"\"\"\n",
        "    Stack data structure implementation.\n",
        "    \"\"\"\n",
        "\n",
        "    def __init__(self, capacity: int):\n",
        "        \"\"\"\n",
        "        Initialize a Stack object.\n",
        "\n",
        "        Args:\n",
        "            capacity (int): Maximum capacity of the stack.\n",
        "        \"\"\"\n",
        "        self.capacity = capacity\n",
        "        self.stack = []\n",
        "\n",
        "    def is_empty(self):\n",
        "        \"\"\"\n",
        "        Check if the stack is empty.\n",
        "\n",
        "        Returns:\n",
        "            bool: True if the stack is empty, False otherwise.\n",
        "        \"\"\"\n",
        "        return len(self.stack) == 0\n",
        "\n",
        "    def is_full(self):\n",
        "        \"\"\"\n",
        "        Check if the stack is full.\n",
        "\n",
        "        Returns:\n",
        "            bool: True if the stack is full, False otherwise.\n",
        "        \"\"\"\n",
        "        return len(self.stack) == self.capacity\n",
        "\n",
        "    def pop(self):\n",
        "        \"\"\"\n",
        "        Remove and return the top element from the stack.\n",
        "\n",
        "        Returns:\n",
        "            Any: The top element of the stack, or None if the stack is empty.\n",
        "        \"\"\"\n",
        "        if self.is_empty():\n",
        "            return None\n",
        "        return self.stack.pop()\n",
        "\n",
        "    def push(self, value):\n",
        "        \"\"\"\n",
        "        Add an element to the top of the stack.\n",
        "\n",
        "        Args:\n",
        "            value (Any): The value to be added to the stack.\n",
        "        \"\"\"\n",
        "        if self.is_full():\n",
        "            raise OverflowError(\"Stack is full\")\n",
        "        self.stack.append(value)\n",
        "\n",
        "    def top(self):\n",
        "        \"\"\"\n",
        "        Return the top element of the stack without removing it.\n",
        "\n",
        "        Returns:\n",
        "            Any: The top element of the stack, or None if the stack is empty.\n",
        "        \"\"\"\n",
        "        if self.is_empty():\n",
        "            return None\n",
        "        return self.stack[-1]\n"
      ]
    },
    {
      "cell_type": "markdown",
      "metadata": {},
      "source": [
        "#### *Chạy thử class*"
      ]
    },
    {
      "cell_type": "code",
      "execution_count": 18,
      "metadata": {},
      "outputs": [
        {
          "name": "stdout",
          "output_type": "stream",
          "text": [
            "False\n",
            "2\n",
            "2\n",
            "1\n",
            "1\n",
            "True\n"
          ]
        }
      ],
      "source": [
        "stack1 = MyStack(capacity=5)\n",
        "stack1.push(1)\n",
        "stack1.push(2)\n",
        "print(stack1.is_full())\n",
        "print(stack1.top())\n",
        "print(stack1.pop())\n",
        "print(stack1.top())\n",
        "print(stack1.pop())\n",
        "print(stack1.is_empty())"
      ]
    },
    {
      "cell_type": "markdown",
      "metadata": {},
      "source": [
        "### **4. Thực hiện xây dựng class Queue với các chức năng (method) sau đây:** \n",
        "\n",
        "    • initialization method nhận một input \"capacity\": dùng để khởi tạo queue với capacity là số lượng element mà queue có thể chứa\n",
        "    • .is_empty(): kiểm tra queue có đang rỗng\n",
        "    • .is_full(): kiểm tra queue đã full chưa\n",
        "    • .dequeue(): loại bỏ first element và trả về giá trị đó\n",
        "    • .enqueue(value) add thêm value vào trong queue\n",
        "    • .front() lấy giá trị first element hiện tại của queue, nhưng không loại bỏ giá trị đó"
      ]
    },
    {
      "cell_type": "markdown",
      "metadata": {},
      "source": [
        "#### *Xây dựng class*"
      ]
    },
    {
      "cell_type": "code",
      "execution_count": 19,
      "metadata": {},
      "outputs": [],
      "source": [
        "class MyQueue:\n",
        "    \"\"\"\n",
        "    Queue data structure implementation.\n",
        "    \"\"\"\n",
        "\n",
        "    def __init__(self, capacity: int):\n",
        "        \"\"\"\n",
        "        Initialize a Queue object.\n",
        "\n",
        "        Args:\n",
        "            capacity (int): Maximum capacity of the queue.\n",
        "        \"\"\"\n",
        "        self.capacity = capacity\n",
        "        self.queue = []\n",
        "\n",
        "    def is_empty(self):\n",
        "        \"\"\"\n",
        "        Check if the queue is empty.\n",
        "\n",
        "        Returns:\n",
        "            bool: True if the queue is empty, False otherwise.\n",
        "        \"\"\"\n",
        "        return len(self.queue) == 0\n",
        "\n",
        "    def is_full(self):\n",
        "        \"\"\"\n",
        "        Check if the queue is full.\n",
        "\n",
        "        Returns:\n",
        "            bool: True if the queue is full, False otherwise.\n",
        "        \"\"\"\n",
        "        return len(self.queue) == self.capacity\n",
        "\n",
        "    def dequeue(self):\n",
        "        \"\"\"\n",
        "        Remove and return the front element from the queue.\n",
        "\n",
        "        Returns:\n",
        "            Any: The front element of the queue, or None if the queue is empty.\n",
        "        \"\"\"\n",
        "        if self.is_empty():\n",
        "            return None\n",
        "        return self.queue.pop(0)\n",
        "\n",
        "    def enqueue(self, value):\n",
        "        \"\"\"\n",
        "        Add an element to the end of the queue.\n",
        "\n",
        "        Args:\n",
        "            value (Any): The value to be added to the queue.\n",
        "        \"\"\"\n",
        "        if self.is_full():\n",
        "            raise OverflowError(\"Queue is full\")\n",
        "        self.queue.append(value)\n",
        "\n",
        "    def front(self):\n",
        "        \"\"\"\n",
        "        Return the front element of the queue without removing it.\n",
        "\n",
        "        Returns:\n",
        "            Any: The front element of the queue, or None if the queue is empty.\n",
        "        \"\"\"\n",
        "        if self.is_empty():\n",
        "            return None\n",
        "        return self.queue[0]\n"
      ]
    },
    {
      "cell_type": "markdown",
      "metadata": {},
      "source": [
        "#### *Chạy thử class*"
      ]
    },
    {
      "cell_type": "code",
      "execution_count": 20,
      "metadata": {
        "colab": {
          "base_uri": "https://localhost:8080/"
        },
        "id": "qkulvZbmAYsD",
        "outputId": "9cb79cd3-ae77-4cea-da24-e20fec56dc79"
      },
      "outputs": [
        {
          "name": "stdout",
          "output_type": "stream",
          "text": [
            "False\n",
            "1\n",
            "1\n",
            "2\n",
            "2\n",
            "True\n"
          ]
        }
      ],
      "source": [
        "queue1 = MyQueue(capacity=5)\n",
        "queue1.enqueue(1)\n",
        "queue1.enqueue(2)\n",
        "print(queue1.is_full())\n",
        "print(queue1.front())\n",
        "print(queue1.dequeue())\n",
        "print(queue1.front())\n",
        "print(queue1.dequeue())\n",
        "print(queue1.is_empty())"
      ]
    }
  ],
  "metadata": {
    "colab": {
      "provenance": []
    },
    "kernelspec": {
      "display_name": "Python 3",
      "name": "python3"
    },
    "language_info": {
      "codemirror_mode": {
        "name": "ipython",
        "version": 3
      },
      "file_extension": ".py",
      "mimetype": "text/x-python",
      "name": "python",
      "nbconvert_exporter": "python",
      "pygments_lexer": "ipython3",
      "version": "3.12.3"
    }
  },
  "nbformat": 4,
  "nbformat_minor": 0
}
