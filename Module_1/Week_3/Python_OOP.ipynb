{
  "cells": [
    {
      "cell_type": "markdown",
      "metadata": {},
      "source": [
        "## **Data Structure – Exercise** \n",
        "*Ngày 8 tháng 6 năm 2024*"
      ]
    },
    {
      "cell_type": "markdown",
      "metadata": {},
      "source": [
        "### **1. Cho một list các số nguyên num_list và một sliding window có kích thước size k di chuyển từ trái sang phải. Mỗi lần dịch chuyển 1 vị trí sang phải có thể nhìn thấy đươc k số trong num_list và tìm số lớn nhất trong k số này sau mỗi lần trượt (k phải lớn hơn hoặc bằng 1).**\n",
        "- *Input*: num_list = [3, 4, 5, 1, -44 , 5 ,10, 12 ,33, 1] với k = 3.\n",
        "- *Output*: [5, 5, 5, 5, 10, 12, 33, 33]."
      ]
    },
    {
      "cell_type": "markdown",
      "metadata": {},
      "source": [
        "#### *Xây dựng class*"
      ]
    },
    {
      "cell_type": "code",
      "execution_count": null,
      "metadata": {},
      "outputs": [],
      "source": [
        "import torch\n",
        "import torch.nn as nn"
      ]
    },
    {
      "cell_type": "code",
      "execution_count": null,
      "metadata": {},
      "outputs": [],
      "source": [
        "class Softmax(nn.Module):\n",
        "    \"\"\"\n",
        "    Softmax activation function module.\n",
        "    \"\"\"\n",
        "    def __init__(self):\n",
        "        super(Softmax, self).__init__()\n",
        "\n",
        "    def forward(self, x):\n",
        "        \"\"\"\n",
        "        Compute the softmax activation function.\n",
        "\n",
        "        Args:\n",
        "            x (torch.Tensor): Input tensor.\n",
        "\n",
        "        Returns:\n",
        "            torch.Tensor: Output tensor after applying softmax.\n",
        "        \"\"\"\n",
        "        # Compute softmax\n",
        "        exp_x = torch.exp(x)\n",
        "        sum_exp_x = torch.sum(exp_x, dim=0, keepdim=True)\n",
        "        return exp_x / sum_exp_x"
      ]
    },
    {
      "cell_type": "code",
      "execution_count": null,
      "metadata": {},
      "outputs": [],
      "source": [
        "class SoftmaxStable(nn.Module):\n",
        "    \"\"\"\n",
        "    Stable Softmax activation function module.\n",
        "    \"\"\"\n",
        "    def __init__(self):\n",
        "        super(SoftmaxStable, self).__init__()\n",
        "\n",
        "    def forward(self, x):\n",
        "        \"\"\"\n",
        "        Compute the stable softmax activation function.\n",
        "\n",
        "        Args:\n",
        "            x (torch.Tensor): Input tensor.\n",
        "\n",
        "        Returns:\n",
        "            torch.Tensor: Output tensor after applying stable softmax.\n",
        "        \"\"\"\n",
        "        # Compute stable softmax\n",
        "        x_max = torch.max(x, dim=0, keepdim=True).values\n",
        "        exp_x = torch.exp(x - x_max)\n",
        "        sum_exp_x = torch.sum(exp_x, dim=0, keepdim=True)\n",
        "        return exp_x / sum_exp_x"
      ]
    },
    {
      "cell_type": "markdown",
      "metadata": {},
      "source": [
        "#### *Chạy thử function*"
      ]
    },
    {
      "cell_type": "code",
      "execution_count": null,
      "metadata": {},
      "outputs": [
        {
          "data": {
            "text/plain": [
              "tensor([0.0900, 0.2447, 0.6652])"
            ]
          },
          "metadata": {},
          "output_type": "display_data"
        }
      ],
      "source": [
        "data = torch.Tensor([1 , 2 , 3])\n",
        "softmax = Softmax()\n",
        "output = softmax(data)\n",
        "output"
      ]
    },
    {
      "cell_type": "code",
      "execution_count": null,
      "metadata": {},
      "outputs": [
        {
          "data": {
            "text/plain": [
              "tensor([0.9465, 0.0471, 0.0064])"
            ]
          },
          "metadata": {},
          "output_type": "display_data"
        }
      ],
      "source": [
        "data = torch.Tensor([1000, 997 , 995])\n",
        "softmax_stable = SoftmaxStable()\n",
        "output = softmax_stable(data)\n",
        "output"
      ]
    },
    {
      "cell_type": "markdown",
      "metadata": {},
      "source": [
        "### **2. Viết function trả về một dictionary đếm số lượng chữ xuất hiện trong một từ, với key là chữ cái và value là số lần xuất hiện.**\n",
        "- *Input*: một từ.\n",
        "- *Output*: dictionary đếm số lần các chữ xuất hiện."
      ]
    },
    {
      "cell_type": "markdown",
      "metadata": {},
      "source": [
        "#### *Xây dựng class*"
      ]
    },
    {
      "cell_type": "code",
      "execution_count": null,
      "metadata": {},
      "outputs": [],
      "source": [
        "from abc import ABC, abstractmethod"
      ]
    },
    {
      "cell_type": "code",
      "execution_count": null,
      "metadata": {},
      "outputs": [],
      "source": [
        "class Person(ABC):\n",
        "    \"\"\"\n",
        "    Abstract base class for Person.\n",
        "    \"\"\"\n",
        "    def __init__(self, name: str, yob: int):\n",
        "        self._name = name\n",
        "        self._yob = yob\n",
        "\n",
        "    def get_yob(self):\n",
        "        \"\"\"\n",
        "        Get the year of birth.\n",
        "\n",
        "        Returns:\n",
        "            int: Year of birth.\n",
        "        \"\"\"\n",
        "        return self._yob\n",
        "\n",
        "    @abstractmethod\n",
        "    def describe(self):\n",
        "        \"\"\"\n",
        "        Abstract method to describe the person.\n",
        "        \"\"\""
      ]
    },
    {
      "cell_type": "code",
      "execution_count": null,
      "metadata": {},
      "outputs": [],
      "source": [
        "class Student(Person):\n",
        "    \"\"\"\n",
        "    Class representing a Student.\n",
        "    \"\"\"\n",
        "    def __init__(self, name: str, yob: int, grade: str):\n",
        "        \"\"\"\n",
        "        Initialize a Student object.\n",
        "\n",
        "        Args:\n",
        "            name (str): Name of the student.\n",
        "            yob (int): Year of birth of the student.\n",
        "            grade (str): Grade of the student.\n",
        "        \"\"\"\n",
        "        super().__init__(name, yob)\n",
        "        self._grade = grade\n",
        "\n",
        "    def describe(self):\n",
        "        \"\"\"\n",
        "        Describe the student.\n",
        "        \"\"\"\n",
        "        print(f\"Student - Name: {self._name} - YoB: {self._yob} - Grade: {self._grade}\")"
      ]
    },
    {
      "cell_type": "code",
      "execution_count": null,
      "metadata": {},
      "outputs": [],
      "source": [
        "class Teacher(Person):\n",
        "    \"\"\"\n",
        "    Class representing a Teacher.\n",
        "    \"\"\"\n",
        "    def __init__(self, name: str, yob: int, subject: str):\n",
        "        \"\"\"\n",
        "        Initialize a Teacher object.\n",
        "\n",
        "        Args:\n",
        "            name (str): Name of the teacher.\n",
        "            yob (int): Year of birth of the teacher.\n",
        "            subject (str): Subject taught by the teacher.\n",
        "        \"\"\"\n",
        "        super().__init__(name, yob)\n",
        "        self._subject = subject\n",
        "\n",
        "    def describe(self):\n",
        "        \"\"\"\n",
        "        Describe the teacher.\n",
        "        \"\"\"\n",
        "        print(f\"Teacher - Name: {self._name} - YoB: {self._yob} - Subject: {self._subject}\")"
      ]
    },
    {
      "cell_type": "code",
      "execution_count": null,
      "metadata": {},
      "outputs": [],
      "source": [
        "class Doctor(Person):\n",
        "    \"\"\"\n",
        "    Class representing a Doctor.\n",
        "    \"\"\"\n",
        "    def __init__(self, name: str, yob: int, specialist: str):\n",
        "        \"\"\"\n",
        "        Initialize a Doctor object.\n",
        "\n",
        "        Args:\n",
        "            name (str): Name of the doctor.\n",
        "            yob (int): Year of birth of the doctor.\n",
        "            specialist (str): Specialist area of the doctor.\n",
        "        \"\"\"\n",
        "        super().__init__(name, yob)\n",
        "        self._specialist = specialist\n",
        "\n",
        "    def describe(self):\n",
        "        \"\"\"\n",
        "        Describe the doctor.\n",
        "        \"\"\"\n",
        "        print(f\"Doctor - Name: {self._name} - YoB: {self._yob} - Specialist: {self._specialist}\")\n"
      ]
    },
    {
      "cell_type": "code",
      "execution_count": null,
      "metadata": {},
      "outputs": [],
      "source": [
        "class Ward:\n",
        "    \"\"\"\n",
        "    Class representing a Ward (district).\n",
        "    \"\"\"\n",
        "    def __init__(self, name: str):\n",
        "        \"\"\"\n",
        "        Initialize a Ward object.\n",
        "\n",
        "        Args:\n",
        "            name (str): Name of the ward.\n",
        "        \"\"\"\n",
        "        self.__name = name\n",
        "        self.__list_people = []\n",
        "\n",
        "    def add_person(self, person: Person):\n",
        "        \"\"\"\n",
        "        Add a person to the ward.\n",
        "\n",
        "        Args:\n",
        "            person (Person): A Person object (Student, Teacher, or Doctor).\n",
        "        \"\"\"\n",
        "        self.__list_people.append(person)\n",
        "\n",
        "    def describe(self):\n",
        "        \"\"\"\n",
        "        Describe the ward and its members.\n",
        "        \"\"\"\n",
        "        print(f\"Ward Name: {self.__name}\")\n",
        "        for p in self.__list_people:\n",
        "            p.describe()\n",
        "\n",
        "    def count_doctor(self):\n",
        "        \"\"\"\n",
        "        Count the number of doctors in the ward.\n",
        "\n",
        "        Returns:\n",
        "            int: Number of doctors in the ward.\n",
        "        \"\"\"\n",
        "        count = 0\n",
        "        for p in self.__list_people:\n",
        "            if isinstance(p, Doctor):\n",
        "                count += 1\n",
        "        return count\n",
        "\n",
        "    def sort_age(self):\n",
        "        \"\"\"\n",
        "        Sort the people in the ward by their age in ascending order.\n",
        "        \"\"\"\n",
        "        self.__list_people.sort(key=lambda p: p.get_yob())\n",
        "\n",
        "    def compute_average(self):\n",
        "        \"\"\"\n",
        "        Compute the average year of birth of the teachers in the ward.\n",
        "\n",
        "        Returns:\n",
        "            float: Average year of birth of teachers, or None if no teachers are found.\n",
        "        \"\"\"\n",
        "        teachers = [p for p in self.__list_people if isinstance(p, Teacher)]\n",
        "        if not teachers:\n",
        "            return None\n",
        "        yobs = [p.get_yob() for p in teachers]\n",
        "        return sum(yobs) / len(yobs)"
      ]
    },
    {
      "cell_type": "markdown",
      "metadata": {},
      "source": [
        "#### *Chạy thử function:*"
      ]
    },
    {
      "cell_type": "code",
      "execution_count": null,
      "metadata": {},
      "outputs": [
        {
          "name": "stdout",
          "output_type": "stream",
          "text": [
            "Student - Name: studentA - YoB: 2010 - Grade: 7\n",
            "Teacher - Name: teacherA - YoB: 1969 - Subject: Math\n",
            "Doctor - Name: doctorA - YoB: 1945 - Specialist: Endocrinologists\n"
          ]
        }
      ],
      "source": [
        "student1 = Student(name=\"studentA\", yob=2010 , grade=\"7\")\n",
        "student1.describe()\n",
        "teacher1 = Teacher(name=\"teacherA\", yob=1969, subject=\"Math\")\n",
        "teacher1.describe()\n",
        "doctor1 = Doctor(name=\"doctorA\", yob=1945, specialist=\"Endocrinologists\")\n",
        "doctor1.describe()"
      ]
    },
    {
      "cell_type": "code",
      "execution_count": null,
      "metadata": {},
      "outputs": [
        {
          "name": "stdout",
          "output_type": "stream",
          "text": [
            "Ward Name: Ward1\n",
            "Student - Name: studentA - YoB: 2010 - Grade: 7\n",
            "Teacher - Name: teacherA - YoB: 1969 - Subject: Math\n",
            "Teacher - Name: teacherB - YoB: 1995 - Subject: History\n",
            "Doctor - Name: doctorA - YoB: 1945 - Specialist: Endocrinologists\n",
            "Doctor - Name: doctorB - YoB: 1975 - Specialist: Cardiologists\n"
          ]
        }
      ],
      "source": [
        "teacher2 = Teacher(name=\"teacherB\", yob=1995, subject=\"History\")\n",
        "doctor2 = Doctor(name=\"doctorB\", yob=1975, specialist=\"Cardiologists\")\n",
        "ward1 = Ward(name=\"Ward1\")\n",
        "ward1.add_person(student1)\n",
        "ward1.add_person(teacher1)\n",
        "ward1.add_person(teacher2)\n",
        "ward1.add_person(doctor1)\n",
        "ward1.add_person(doctor2)\n",
        "ward1.describe()"
      ]
    },
    {
      "cell_type": "code",
      "execution_count": null,
      "metadata": {},
      "outputs": [
        {
          "name": "stdout",
          "output_type": "stream",
          "text": [
            "Number of doctors: 2\n"
          ]
        }
      ],
      "source": [
        "print(f\"Number of doctors: {ward1.count_doctor()}\")"
      ]
    },
    {
      "cell_type": "code",
      "execution_count": null,
      "metadata": {},
      "outputs": [
        {
          "name": "stdout",
          "output_type": "stream",
          "text": [
            "After sorting Age of Ward1 people\n",
            "Ward Name: Ward1\n",
            "Doctor - Name: doctorA - YoB: 1945 - Specialist: Endocrinologists\n",
            "Teacher - Name: teacherA - YoB: 1969 - Subject: Math\n",
            "Doctor - Name: doctorB - YoB: 1975 - Specialist: Cardiologists\n",
            "Teacher - Name: teacherB - YoB: 1995 - Subject: History\n",
            "Student - Name: studentA - YoB: 2010 - Grade: 7\n"
          ]
        }
      ],
      "source": [
        "print(\"After sorting Age of Ward1 people\")\n",
        "ward1.sort_age()\n",
        "ward1.describe()"
      ]
    },
    {
      "cell_type": "code",
      "execution_count": null,
      "metadata": {},
      "outputs": [
        {
          "name": "stdout",
          "output_type": "stream",
          "text": [
            "Average year of birth (teachers): 1982.0\n"
          ]
        }
      ],
      "source": [
        "print(f\"Average year of birth (teachers): {ward1.compute_average()}\")"
      ]
    },
    {
      "cell_type": "markdown",
      "metadata": {},
      "source": [
        "### **3. Viết function đọc các câu trong một file txt, đếm số lượng các từ xuất hiện và trả về một dictionary với key là từ và value là số lần từ đó xuất hiện.**\n",
        "- *Input*: đường dẫn đến file txt.\n",
        "- *Output*: dictionary đếm số lần các từ xuất hiện."
      ]
    },
    {
      "cell_type": "markdown",
      "metadata": {},
      "source": [
        "#### *Xây dựng class*"
      ]
    },
    {
      "cell_type": "code",
      "execution_count": null,
      "metadata": {},
      "outputs": [],
      "source": [
        "class MyStack:\n",
        "    \"\"\"\n",
        "    Stack data structure implementation.\n",
        "    \"\"\"\n",
        "\n",
        "    def __init__(self, capacity: int):\n",
        "        \"\"\"\n",
        "        Initialize a Stack object.\n",
        "\n",
        "        Args:\n",
        "            capacity (int): Maximum capacity of the stack.\n",
        "        \"\"\"\n",
        "        self.capacity = capacity\n",
        "        self.stack = []\n",
        "\n",
        "    def is_empty(self):\n",
        "        \"\"\"\n",
        "        Check if the stack is empty.\n",
        "\n",
        "        Returns:\n",
        "            bool: True if the stack is empty, False otherwise.\n",
        "        \"\"\"\n",
        "        return len(self.stack) == 0\n",
        "\n",
        "    def is_full(self):\n",
        "        \"\"\"\n",
        "        Check if the stack is full.\n",
        "\n",
        "        Returns:\n",
        "            bool: True if the stack is full, False otherwise.\n",
        "        \"\"\"\n",
        "        return len(self.stack) == self.capacity\n",
        "\n",
        "    def pop(self):\n",
        "        \"\"\"\n",
        "        Remove and return the top element from the stack.\n",
        "\n",
        "        Returns:\n",
        "            Any: The top element of the stack, or None if the stack is empty.\n",
        "        \"\"\"\n",
        "        if self.is_empty():\n",
        "            return None\n",
        "        return self.stack.pop()\n",
        "\n",
        "    def push(self, value):\n",
        "        \"\"\"\n",
        "        Add an element to the top of the stack.\n",
        "\n",
        "        Args:\n",
        "            value (Any): The value to be added to the stack.\n",
        "        \"\"\"\n",
        "        if self.is_full():\n",
        "            raise OverflowError(\"Stack is full\")\n",
        "        self.stack.append(value)\n",
        "\n",
        "    def top(self):\n",
        "        \"\"\"\n",
        "        Return the top element of the stack without removing it.\n",
        "\n",
        "        Returns:\n",
        "            Any: The top element of the stack, or None if the stack is empty.\n",
        "        \"\"\"\n",
        "        if self.is_empty():\n",
        "            return None\n",
        "        return self.stack[-1]\n"
      ]
    },
    {
      "cell_type": "markdown",
      "metadata": {},
      "source": [
        "#### *Chạy thử function*"
      ]
    },
    {
      "cell_type": "code",
      "execution_count": null,
      "metadata": {},
      "outputs": [
        {
          "name": "stdout",
          "output_type": "stream",
          "text": [
            "False\n",
            "2\n",
            "2\n",
            "1\n",
            "1\n",
            "True\n"
          ]
        }
      ],
      "source": [
        "stack1 = MyStack(capacity=5)\n",
        "stack1.push(1)\n",
        "stack1.push(2)\n",
        "print(stack1.is_full())\n",
        "print(stack1.top())\n",
        "print(stack1.pop())\n",
        "print(stack1.top())\n",
        "print(stack1.pop())\n",
        "print(stack1.is_empty())"
      ]
    },
    {
      "cell_type": "markdown",
      "metadata": {},
      "source": [
        "### **4. Viết chương trình tính khoảng cách chỉnh sửa tối thiểu Levenshtein. Khoảng cách Levenshtein thể hiện khoảng cách khác biệt giữa 2 chuỗi ký tự.** \n",
        "Khoảng cách Levenshtein giữa chuỗi S và chuỗi T\n",
        "là số bước ít nhất biến chuỗi S thành chuỗi T thông qua 3 phép biến đổi là:\n",
        "- Xoá một ký tự\n",
        "- Thêm một ký tự\n",
        "- Thay thế ký tự này bằng ký tự khác"
      ]
    },
    {
      "cell_type": "markdown",
      "metadata": {},
      "source": [
        "#### *Xây dựng class*"
      ]
    },
    {
      "cell_type": "code",
      "execution_count": null,
      "metadata": {},
      "outputs": [],
      "source": [
        "class MyQueue:\n",
        "    \"\"\"\n",
        "    Queue data structure implementation.\n",
        "    \"\"\"\n",
        "\n",
        "    def __init__(self, capacity: int):\n",
        "        \"\"\"\n",
        "        Initialize a Queue object.\n",
        "\n",
        "        Args:\n",
        "            capacity (int): Maximum capacity of the queue.\n",
        "        \"\"\"\n",
        "        self.capacity = capacity\n",
        "        self.queue = []\n",
        "\n",
        "    def is_empty(self):\n",
        "        \"\"\"\n",
        "        Check if the queue is empty.\n",
        "\n",
        "        Returns:\n",
        "            bool: True if the queue is empty, False otherwise.\n",
        "        \"\"\"\n",
        "        return len(self.queue) == 0\n",
        "\n",
        "    def is_full(self):\n",
        "        \"\"\"\n",
        "        Check if the queue is full.\n",
        "\n",
        "        Returns:\n",
        "            bool: True if the queue is full, False otherwise.\n",
        "        \"\"\"\n",
        "        return len(self.queue) == self.capacity\n",
        "\n",
        "    def dequeue(self):\n",
        "        \"\"\"\n",
        "        Remove and return the front element from the queue.\n",
        "\n",
        "        Returns:\n",
        "            Any: The front element of the queue, or None if the queue is empty.\n",
        "        \"\"\"\n",
        "        if self.is_empty():\n",
        "            return None\n",
        "        return self.queue.pop(0)\n",
        "\n",
        "    def enqueue(self, value):\n",
        "        \"\"\"\n",
        "        Add an element to the end of the queue.\n",
        "\n",
        "        Args:\n",
        "            value (Any): The value to be added to the queue.\n",
        "        \"\"\"\n",
        "        if self.is_full():\n",
        "            raise OverflowError(\"Queue is full\")\n",
        "        self.queue.append(value)\n",
        "\n",
        "    def front(self):\n",
        "        \"\"\"\n",
        "        Return the front element of the queue without removing it.\n",
        "\n",
        "        Returns:\n",
        "            Any: The front element of the queue, or None if the queue is empty.\n",
        "        \"\"\"\n",
        "        if self.is_empty():\n",
        "            return None\n",
        "        return self.queue[0]\n"
      ]
    },
    {
      "cell_type": "markdown",
      "metadata": {},
      "source": [
        "#### *Chạy thử function*"
      ]
    },
    {
      "cell_type": "code",
      "execution_count": 56,
      "metadata": {
        "colab": {
          "base_uri": "https://localhost:8080/"
        },
        "id": "qkulvZbmAYsD",
        "outputId": "9cb79cd3-ae77-4cea-da24-e20fec56dc79"
      },
      "outputs": [
        {
          "name": "stdout",
          "output_type": "stream",
          "text": [
            "False\n",
            "1\n",
            "1\n",
            "2\n",
            "2\n",
            "True\n"
          ]
        }
      ],
      "source": [
        "queue1 = MyQueue(capacity=5)\n",
        "queue1.enqueue(1)\n",
        "queue1.enqueue(2)\n",
        "print(queue1.is_full())\n",
        "print(queue1.front())\n",
        "print(queue1.dequeue())\n",
        "print(queue1.front())\n",
        "print(queue1.dequeue())\n",
        "print(queue1.is_empty())"
      ]
    }
  ],
  "metadata": {
    "colab": {
      "provenance": []
    },
    "kernelspec": {
      "display_name": "Python 3",
      "name": "python3"
    },
    "language_info": {
      "codemirror_mode": {
        "name": "ipython",
        "version": 3
      },
      "file_extension": ".py",
      "mimetype": "text/x-python",
      "name": "python",
      "nbconvert_exporter": "python",
      "pygments_lexer": "ipython3",
      "version": "3.12.3"
    }
  },
  "nbformat": 4,
  "nbformat_minor": 0
}
