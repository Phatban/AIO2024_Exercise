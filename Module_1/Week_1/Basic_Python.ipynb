{
 "cells": [
  {
   "cell_type": "markdown",
   "metadata": {},
   "source": [
    "## **Basic Python – Exercise** \n",
    "*Ngày 1 tháng 6 năm 2024*"
   ]
  },
  {
   "cell_type": "markdown",
   "metadata": {},
   "source": [
    "### **1. Viết function thực hiện đánh giá classification model bằng F1-Score.**\n",
    "- *Input*: function nhận 3 giá trị tp, fp, fn.\n",
    "- *Output*: print ra kết quả của Precision, Recall, và F1-score."
   ]
  },
  {
   "cell_type": "markdown",
   "metadata": {},
   "source": [
    "#### *Viết function*"
   ]
  },
  {
   "cell_type": "code",
   "execution_count": 1,
   "metadata": {},
   "outputs": [],
   "source": [
    "def caculate_f1_score(tp, fp, fn):\n",
    "    \"\"\"\n",
    "    Evaluates a classification model using F1-Score.\n",
    "\n",
    "    Args:\n",
    "        tp: Number of true positives. (must be a positive integer)\n",
    "        fp: Number of false positives. (must be a positive integer)\n",
    "        fn: Number of false negatives. (must be a positive integer)\n",
    "\n",
    "    Returns:\n",
    "        None. Prints the Precision, Recall, and F1-score.\n",
    "    \"\"\"\n",
    "\n",
    "    # Check if input values are positive integers\n",
    "    inputs = {'tp' : tp,\n",
    "              'fp' : fp, \n",
    "              'fn' : fn }\n",
    "    are_all_positive = True\n",
    "    for key, value in inputs.items():\n",
    "        if not isinstance(value, int):\n",
    "            print(f'{key} must be int')\n",
    "            return\n",
    "        if value <= 0:\n",
    "            are_all_positive = False\n",
    "    if not are_all_positive:\n",
    "        print('tp and fp and fn must be greater than zero')\n",
    "        return\n",
    "\n",
    "    # Caculate Precision, Recall, and F1-Score\n",
    "    precision   = tp/(tp + fp)\n",
    "    recall      = tp/(tp + fn)\n",
    "    f1_score    = 2*(precision * recall)/(precision + recall)\n",
    "\n",
    "    # Print results\n",
    "    print('Precision is', precision)\n",
    "    print('Recall is'   , recall)\n",
    "    print('F1-Score is' , f1_score)\n"
   ]
  },
  {
   "cell_type": "markdown",
   "metadata": {},
   "source": [
    "#### *Chạy thử function*"
   ]
  },
  {
   "cell_type": "code",
   "execution_count": 2,
   "metadata": {},
   "outputs": [
    {
     "name": "stdout",
     "output_type": "stream",
     "text": [
      "fn must be int\n",
      "fp must be int\n",
      "fn must be int\n",
      "tp and fp and fn must be greater than zero\n"
     ]
    }
   ],
   "source": [
    "caculate_f1_score(4, 3, 'a')\n",
    "caculate_f1_score(2, 1.5, 4)\n",
    "caculate_f1_score(0, 1, 'p')\n",
    "caculate_f1_score(3, -5, 4)"
   ]
  },
  {
   "cell_type": "code",
   "execution_count": 3,
   "metadata": {},
   "outputs": [
    {
     "name": "stdout",
     "output_type": "stream",
     "text": [
      "Precision is 0.4\n",
      "Recall is 0.2857142857142857\n",
      "F1-Score is 0.3333333333333333\n"
     ]
    }
   ],
   "source": [
    "caculate_f1_score(2, 3, 5)"
   ]
  },
  {
   "cell_type": "markdown",
   "metadata": {},
   "source": [
    "### **2. Viết function mô phỏng theo 3 activation function.**\n",
    "- *Input*:\n",
    "    + Người dùng nhập giá trị x.\n",
    "    + Người dùng nhập tên activation function chỉ có 3 loại: sigmoid, relu, elu.\n",
    "- *Output*: Kết quả f(x) khi x đi qua activation function tương ứng theo activation function name."
   ]
  },
  {
   "cell_type": "markdown",
   "metadata": {},
   "source": [
    "#### *Viết function:*"
   ]
  },
  {
   "cell_type": "code",
   "execution_count": 5,
   "metadata": {},
   "outputs": [],
   "source": [
    "import math\n",
    "import numpy as np"
   ]
  },
  {
   "cell_type": "code",
   "execution_count": 6,
   "metadata": {},
   "outputs": [],
   "source": [
    "def is_number(n):\n",
    "    \"\"\"\n",
    "    Checks if the given input can be converted to a float.\n",
    "\n",
    "    Args:\n",
    "        n: The input to check.\n",
    "\n",
    "    Returns:\n",
    "        True if the input can be converted to a float, False otherwise.\n",
    "    \"\"\"\n",
    "    try:\n",
    "        float(n)    # Type - casting the string to \"float\"\n",
    "                    # If string is not a valid \"float\", it'll raise \"ValueError\" exception\n",
    "    except ValueError:\n",
    "        return False\n",
    "    return True"
   ]
  },
  {
   "cell_type": "code",
   "execution_count": 12,
   "metadata": {},
   "outputs": [],
   "source": [
    "def caculate_activation_function():\n",
    "    \"\"\"\n",
    "    Applies an activation function to a given value entered by the user.\n",
    "\n",
    "    Args:\n",
    "        None\n",
    "\n",
    "    Returns:\n",
    "        None\n",
    "\n",
    "    Raises:\n",
    "        ValueError: If the user-entered `x` is not a valid number.\n",
    "        TypeError: If the user-entered activation function name is not valid.\n",
    "\n",
    "    Prompts:\n",
    "        - The user is prompted to enter x value.\n",
    "        - The user is prompted to enter the activation function name (sigmoid|relu|elu).\n",
    "\n",
    "    Prints:\n",
    "        The caculated value of activation function.\n",
    "    \"\"\"\n",
    "    # Prompt the user to enter the value of x\n",
    "    x = input('Enter the value of x: ')\n",
    "\n",
    "    # Check if x is a valid number\n",
    "    if not is_number(x):\n",
    "        print('x must be a number')\n",
    "        return\n",
    "\n",
    "    # Prompt the user to enter the activation function name\n",
    "    function_name = input('Enter the activation function name (sigmoid, relu, or elu): ')\n",
    "\n",
    "    # Apply the activation function\n",
    "    x = float(x)\n",
    "    e = math.e\n",
    "    alpha = 0.01\n",
    "    match function_name:\n",
    "        case 'sigmoid':\n",
    "            # Sigmoid activation function\n",
    "            f_x = 1/(1 + e**(-x))\n",
    "        case 'relu':\n",
    "            # ReLU activation function\n",
    "            f_x = max(0, x)\n",
    "        case 'elu':\n",
    "            # ELU activation function\n",
    "            f_x = np.where(x >= 0, x, alpha*(e**x - 1))\n",
    "        case _:\n",
    "            # Raise an error if the the function name is not valid\n",
    "            print(f'{function_name} is not supported.')\n",
    "            return\n",
    "\n",
    "    # Print the result\n",
    "    print(f'{function_name}: f({x}) = {f_x}')\n"
   ]
  },
  {
   "cell_type": "markdown",
   "metadata": {},
   "source": [
    "#### *Chạy thử function:*"
   ]
  },
  {
   "cell_type": "code",
   "execution_count": 10,
   "metadata": {},
   "outputs": [
    {
     "name": "stdout",
     "output_type": "stream",
     "text": [
      "sigmoid: f(1.5) = 0.8175744761936437\n"
     ]
    }
   ],
   "source": [
    "caculate_activation_function() # x = 1.5, function_name = 'sigmoid'"
   ]
  },
  {
   "cell_type": "code",
   "execution_count": 11,
   "metadata": {},
   "outputs": [
    {
     "name": "stdout",
     "output_type": "stream",
     "text": [
      "x must be a number\n"
     ]
    }
   ],
   "source": [
    "caculate_activation_function() # x = 'a', function_name = 'relu'"
   ]
  },
  {
   "cell_type": "code",
   "execution_count": 11,
   "metadata": {},
   "outputs": [
    {
     "name": "stdout",
     "output_type": "stream",
     "text": [
      "Phat is not supported.\n"
     ]
    }
   ],
   "source": [
    "caculate_activation_function() # x = 1, function_name = 'Phat'"
   ]
  },
  {
   "cell_type": "code",
   "execution_count": 12,
   "metadata": {},
   "outputs": [
    {
     "name": "stdout",
     "output_type": "stream",
     "text": [
      "sigmoid: f(3.0) = 0.9525741268224331\n"
     ]
    }
   ],
   "source": [
    "caculate_activation_function() # x = 3, function_name = 'sigmoid'"
   ]
  },
  {
   "cell_type": "markdown",
   "metadata": {},
   "source": [
    "### **3. Viết function lựa chọn regression loss function để tính loss**\n",
    "- *Input*:\n",
    "    + Người dùng nhập số lượng sample (num_samples) được tạo ra (chỉ nhận integer numbers)\n",
    "    + Người dùng nhập loss name (MAE, MSE, RMSE).\n",
    "- *Output*: Print ra loss name, sample, predict, target, loss.\n",
    "    + loss name : là tên hàm loss mà người dùng chọn.\n",
    "    + sample    : là thứ tự sample được tạo ra. \n",
    "    + predict   : là số mà model dự đoán (random một số trong range [0,10)).\n",
    "    + target    : là số mà momg muốn mode dự đoán đúng (random một số trong range [0,10)).\n",
    "    + loss      : là kết quả khi đưa predict và target vào hàm loss."
   ]
  },
  {
   "cell_type": "markdown",
   "metadata": {},
   "source": [
    "#### *Viết function*"
   ]
  },
  {
   "cell_type": "code",
   "execution_count": 13,
   "metadata": {},
   "outputs": [],
   "source": [
    "import random\n",
    "import math"
   ]
  },
  {
   "cell_type": "code",
   "execution_count": 18,
   "metadata": {},
   "outputs": [],
   "source": [
    "def calculate_loss():\n",
    "    \"\"\"\n",
    "    Calculate the specified loss function for a given number of samples.\n",
    "\n",
    "    Args:\n",
    "        None\n",
    "\n",
    "    Returns:\n",
    "        None\n",
    "\n",
    "    Raises:\n",
    "        ValueError: If the user-entered `num_samples` is not a valid integer number.\n",
    "\n",
    "    Prompts:\n",
    "        - The user is prompted to enter the number of samples.\n",
    "        - The user is prompted to enter the loss function name (MAE, MSE, or RMSE).\n",
    "\n",
    "    Prints:\n",
    "        For each sample:\n",
    "            Loss Name: The name of the loss function entered by the user.\n",
    "            Sample: The sample number.\n",
    "            Predict: The randomly generated predicted value.\n",
    "            Target: The randomly generated target value.\n",
    "            Loss: The calculated loss value for the sample.\n",
    "\n",
    "    \"\"\"\n",
    "    # Prompt the user to enter the number of samples\n",
    "    num_samples = input('Input number of samples (integer number) which are generated: ')\n",
    "\n",
    "    # Check if the input is a valid integer number\n",
    "    if not num_samples.isnumeric():\n",
    "        print('number of samples must be an integer number')\n",
    "        return\n",
    "    num_samples = int(num_samples)\n",
    "\n",
    "    # Prompt the user to enter the loss function name\n",
    "    loss_function = input('Input loss name: ') # Assume the user always enters a valid loss name (MAE|MSE|RMSE)\n",
    "\n",
    "    # Generate random pred and target for each sample and calculate loss for each sample\n",
    "    sum_loss = 0\n",
    "    for i in range(num_samples):\n",
    "        y_pred = random.uniform(0, 10)\n",
    "        y_targ = random.uniform(0, 10)\n",
    "        if loss_function == 'MAE':\n",
    "            loss_per_sample = abs(y_targ - y_pred)\n",
    "        else:\n",
    "            loss_per_sample = (y_targ - y_pred)**2\n",
    "        print(f'loss name: {loss_function}, sample: {i}, pred: {y_pred}, target : {y_targ}, loss: {loss_per_sample}')\n",
    "        sum_loss += loss_per_sample\n",
    "\n",
    "    final_loss = 1/num_samples * sum_loss\n",
    "\n",
    "    if loss_function == 'RMSE':\n",
    "        final_loss = math.sqrt(final_loss)\n",
    "\n",
    "    print(f'final {loss_function}: {final_loss}')\n"
   ]
  },
  {
   "cell_type": "markdown",
   "metadata": {},
   "source": [
    "#### *Chạy thử function*"
   ]
  },
  {
   "cell_type": "code",
   "execution_count": 20,
   "metadata": {},
   "outputs": [
    {
     "name": "stdout",
     "output_type": "stream",
     "text": [
      "number of samples must be an integer number\n"
     ]
    }
   ],
   "source": [
    "calculate_loss() # num_samples = 5, loss_function = 'RMSE'"
   ]
  },
  {
   "cell_type": "code",
   "execution_count": 17,
   "metadata": {},
   "outputs": [
    {
     "name": "stdout",
     "output_type": "stream",
     "text": [
      "number of samples must be an integer number\n"
     ]
    }
   ],
   "source": [
    "calculate_loss() # num_samples = 'a', loss_function = 'MSE'"
   ]
  },
  {
   "cell_type": "markdown",
   "metadata": {},
   "source": [
    "### **4. Viết các functions để ước lượng 4 hàm số sin(x), cos(x), sinh(x), cosh(x).**\n",
    "- *Input*: x (số muốn tính toán) và n (số lần lặp muốn xấp xỉ)\n",
    "- *Output*: Kết quả ước lượng hàm tương ứng với x."
   ]
  },
  {
   "cell_type": "markdown",
   "metadata": {},
   "source": [
    "#### *Viết function*"
   ]
  },
  {
   "cell_type": "code",
   "execution_count": 25,
   "metadata": {},
   "outputs": [],
   "source": [
    "def factorial(n):\n",
    "    \"\"\"\n",
    "    Calculate the factorial of a positive integer n.\n",
    "\n",
    "    Args:\n",
    "    n (int): The positive integer for which to calculate the factorial.\n",
    "\n",
    "    Returns:\n",
    "    int: The factorial of n.\n",
    "\n",
    "    Raises:\n",
    "    ValueError: If n is negative.\n",
    "    \"\"\"\n",
    "\n",
    "    # Check input validity\n",
    "    if n < 0:\n",
    "        raise ValueError(\"Argument must be a positive integer.\")\n",
    "\n",
    "    # Base case: factorial of 0 and 1 is 1\n",
    "    if n == 0 or n == 1:\n",
    "        return 1\n",
    "\n",
    "    # Recursive call to calculate factorial of n - 1 and multiply by n\n",
    "    return factorial(n - 1) * n"
   ]
  },
  {
   "cell_type": "code",
   "execution_count": 26,
   "metadata": {},
   "outputs": [],
   "source": [
    "def approx_sin(x, n):\n",
    "    \"\"\"\n",
    "    Approximate the value of sin(x) using the first n terms of the Taylor series.\n",
    "\n",
    "    Args:\n",
    "    x (float): The value of x.\n",
    "    n (int): The number of terms of the Taylor series to use.\n",
    "\n",
    "    Returns:\n",
    "    float: The approximate value of sin(x).\n",
    "    \"\"\"\n",
    "    result = 0\n",
    "    for i in range(n):\n",
    "        sign = (-1)**i  # Determine the sign of the term\n",
    "        result += sign*(x**(2*i + 1))/factorial(2*i + 1) # Calculate the term value and add to the result\n",
    "    return result"
   ]
  },
  {
   "cell_type": "code",
   "execution_count": 27,
   "metadata": {},
   "outputs": [],
   "source": [
    "def approx_cos(x, n):\n",
    "    \"\"\"\n",
    "    Approximate the value of cos(x) using the first n terms of the Taylor series.\n",
    "\n",
    "    Args:\n",
    "    x (float): The value of x.\n",
    "    n (int): The number of terms of the Taylor series to use.\n",
    "\n",
    "    Returns:\n",
    "    float: The approximate value of cos(x).\n",
    "    \"\"\"\n",
    "    result = 0\n",
    "    for i in range(n):\n",
    "        sign = (-1)**i  # Determine the sign of the term\n",
    "        result += sign*(x**(2*i))/factorial(2*i) # Calculate the term value and add to the result\n",
    "    return result"
   ]
  },
  {
   "cell_type": "code",
   "execution_count": 28,
   "metadata": {},
   "outputs": [],
   "source": [
    "def approx_sinh(x, n):\n",
    "    \"\"\"\n",
    "    Approximate the value of sinh(x) using the first n terms of the Taylor series.\n",
    "\n",
    "    Args:\n",
    "    x (float): The value of x.\n",
    "    n (int): The number of terms of the Taylor series to use.\n",
    "\n",
    "    Returns:\n",
    "    float: The approximate value of sinh(x).\n",
    "    \"\"\"\n",
    "    result = 0\n",
    "    for i in range(n):\n",
    "        result += (x**(2*i + 1))/factorial(2*i + 1) # Calculate the term value and add to the result\n",
    "    return result"
   ]
  },
  {
   "cell_type": "code",
   "execution_count": 29,
   "metadata": {},
   "outputs": [],
   "source": [
    "def approx_cosh(x, n):\n",
    "    \"\"\"\n",
    "    Approximate the value of cosh(x) using the first n terms of the Taylor series.\n",
    "\n",
    "    Args:\n",
    "    x (float): The value of x.\n",
    "    n (int): The number of terms of the Taylor series to use.\n",
    "\n",
    "    Returns:\n",
    "    float: The approximate value of cosh(x).\n",
    "    \"\"\"\n",
    "    result = 0\n",
    "    for i in range(n):\n",
    "        result += (x**(2*i))/factorial(2*i) # Calculate the term value and add to the result\n",
    "    return result\n"
   ]
  },
  {
   "cell_type": "markdown",
   "metadata": {},
   "source": [
    "#### *Chạy thử function*"
   ]
  },
  {
   "cell_type": "code",
   "execution_count": 33,
   "metadata": {},
   "outputs": [
    {
     "data": {
      "text/plain": [
       "0.001592652393160744"
      ]
     },
     "execution_count": 33,
     "metadata": {},
     "output_type": "execute_result"
    }
   ],
   "source": [
    "approx_sin(3.14, 10)"
   ]
  },
  {
   "cell_type": "code",
   "execution_count": 34,
   "metadata": {},
   "outputs": [
    {
     "data": {
      "text/plain": [
       "-0.9999987352210833"
      ]
     },
     "execution_count": 34,
     "metadata": {},
     "output_type": "execute_result"
    }
   ],
   "source": [
    "approx_cos(3.14, 10)"
   ]
  },
  {
   "cell_type": "code",
   "execution_count": 35,
   "metadata": {},
   "outputs": [
    {
     "data": {
      "text/plain": [
       "11.530292029865986"
      ]
     },
     "execution_count": 35,
     "metadata": {},
     "output_type": "execute_result"
    }
   ],
   "source": [
    "approx_sinh(3.14, 10)"
   ]
  },
  {
   "cell_type": "code",
   "execution_count": 36,
   "metadata": {},
   "outputs": [
    {
     "data": {
      "text/plain": [
       "11.573574824666185"
      ]
     },
     "execution_count": 36,
     "metadata": {},
     "output_type": "execute_result"
    }
   ],
   "source": [
    "approx_cosh(3.14, 10)"
   ]
  },
  {
   "cell_type": "markdown",
   "metadata": {},
   "source": [
    "### **5. Viết function thực hiện Mean Difference of nth Root Error.**\n",
    "- *Input*: y (giá trị của y), y_hat (giá trị của y^), n (căn bậc n), và p (bậc của hàm loss).\n",
    "- *Output*: Kết quả của hàm loss."
   ]
  },
  {
   "cell_type": "markdown",
   "metadata": {},
   "source": [
    "#### *Viết function*"
   ]
  },
  {
   "cell_type": "code",
   "execution_count": 37,
   "metadata": {},
   "outputs": [],
   "source": [
    "def md_nre_single_sample(y, y_hat, n, p):\n",
    "    \"\"\"\n",
    "    Compute the Mean Difference of nth Root Error (MD-nRE) for a single sample.\n",
    "\n",
    "    Args:\n",
    "        y (float): The true value of y.\n",
    "        y_hat (float): The predicted value of y.\n",
    "        n (int): The order of the root.\n",
    "        p (int): The order of the loss function.\n",
    "\n",
    "    Returns:\n",
    "        float: The MD-nRE loss value.\n",
    "    \"\"\"\n",
    "    # Calculate the nth root of y and y_hat\n",
    "    y_root = y**(1/n)\n",
    "    y_hat_root = y_hat**(1/n)\n",
    "\n",
    "    # Calculate the difference between the nth roots\n",
    "    difference = y_root - y_hat_root\n",
    "\n",
    "    # Calculate the MD-nRE loss\n",
    "    loss = difference**p\n",
    "\n",
    "    # Print the loss value\n",
    "    print(loss)"
   ]
  },
  {
   "cell_type": "markdown",
   "metadata": {},
   "source": [
    "#### *Chạy thử function*"
   ]
  },
  {
   "cell_type": "code",
   "execution_count": 38,
   "metadata": {},
   "outputs": [
    {
     "name": "stdout",
     "output_type": "stream",
     "text": [
      "0.025031328369998107\n"
     ]
    }
   ],
   "source": [
    "md_nre_single_sample (y = 100, y_hat = 99.5, n = 2, p = 1)"
   ]
  },
  {
   "cell_type": "code",
   "execution_count": 39,
   "metadata": {},
   "outputs": [
    {
     "name": "stdout",
     "output_type": "stream",
     "text": [
      "0.03544417213033135\n"
     ]
    }
   ],
   "source": [
    "md_nre_single_sample (y = 50, y_hat = 49.5, n = 2, p = 1)"
   ]
  },
  {
   "cell_type": "code",
   "execution_count": 40,
   "metadata": {},
   "outputs": [
    {
     "name": "stdout",
     "output_type": "stream",
     "text": [
      "0.05625552183565574\n"
     ]
    }
   ],
   "source": [
    "md_nre_single_sample (y = 20, y_hat = 19.5, n = 2, p = 1)"
   ]
  },
  {
   "cell_type": "code",
   "execution_count": 41,
   "metadata": {},
   "outputs": [
    {
     "name": "stdout",
     "output_type": "stream",
     "text": [
      "0.45836890322464546\n"
     ]
    }
   ],
   "source": [
    "md_nre_single_sample (y = 0.6, y_hat = 0.1, n = 2, p = 1)"
   ]
  }
 ],
 "metadata": {
  "kernelspec": {
   "display_name": "Python 3",
   "language": "python",
   "name": "python3"
  },
  "language_info": {
   "codemirror_mode": {
    "name": "ipython",
    "version": 3
   },
   "file_extension": ".py",
   "mimetype": "text/x-python",
   "name": "python",
   "nbconvert_exporter": "python",
   "pygments_lexer": "ipython3",
   "version": "3.12.3"
  }
 },
 "nbformat": 4,
 "nbformat_minor": 2
}
